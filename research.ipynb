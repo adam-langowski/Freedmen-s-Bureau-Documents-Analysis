{
 "cells": [
  {
   "cell_type": "markdown",
   "metadata": {},
   "source": [
    "## Freedmen's Bureau Documents Analysis"
   ]
  },
  {
   "cell_type": "code",
   "execution_count": 2,
   "metadata": {},
   "outputs": [],
   "source": [
    "import os\n",
    "from openai import OpenAI\n",
    "import ollama\n",
    "import pandas as pd"
   ]
  },
  {
   "cell_type": "code",
   "execution_count": 2,
   "metadata": {},
   "outputs": [
    {
     "data": {
      "text/html": [
       "<div>\n",
       "<style scoped>\n",
       "    .dataframe tbody tr th:only-of-type {\n",
       "        vertical-align: middle;\n",
       "    }\n",
       "\n",
       "    .dataframe tbody tr th {\n",
       "        vertical-align: top;\n",
       "    }\n",
       "\n",
       "    .dataframe thead th {\n",
       "        text-align: right;\n",
       "    }\n",
       "</style>\n",
       "<table border=\"1\" class=\"dataframe\">\n",
       "  <thead>\n",
       "    <tr style=\"text-align: right;\">\n",
       "      <th></th>\n",
       "      <th>project_id</th>\n",
       "      <th>category</th>\n",
       "      <th>sub_category</th>\n",
       "      <th>transcription_text</th>\n",
       "      <th>document_url</th>\n",
       "    </tr>\n",
       "  </thead>\n",
       "  <tbody>\n",
       "    <tr>\n",
       "      <th>0</th>\n",
       "      <td>11406</td>\n",
       "      <td>Contracts</td>\n",
       "      <td>Apprenticeship Agreement</td>\n",
       "      <td>Copy_x000D_\\n_x000D_\\nAgreement of Apprentices...</td>\n",
       "      <td>https://transcription.si.edu/transcribe/11406/...</td>\n",
       "    </tr>\n",
       "    <tr>\n",
       "      <th>1</th>\n",
       "      <td>11406</td>\n",
       "      <td>Contracts</td>\n",
       "      <td>Apprenticeship Agreement</td>\n",
       "      <td>[H 132 ENCL] _x000D_\\n_x000D_\\nCopy_x000D_\\n_x...</td>\n",
       "      <td>https://transcription.si.edu/transcribe/11406/...</td>\n",
       "    </tr>\n",
       "    <tr>\n",
       "      <th>2</th>\n",
       "      <td>11406</td>\n",
       "      <td>Contracts</td>\n",
       "      <td>Apprenticeship Agreement</td>\n",
       "      <td>is agreed on the part of the party of the firs...</td>\n",
       "      <td>https://transcription.si.edu/transcribe/11406/...</td>\n",
       "    </tr>\n",
       "    <tr>\n",
       "      <th>3</th>\n",
       "      <td>11406</td>\n",
       "      <td>Contracts</td>\n",
       "      <td>Apprenticeship Agreement</td>\n",
       "      <td>continuance of this agreement &amp; finally that t...</td>\n",
       "      <td>https://transcription.si.edu/transcribe/11406/...</td>\n",
       "    </tr>\n",
       "    <tr>\n",
       "      <th>4</th>\n",
       "      <td>15369</td>\n",
       "      <td>Contracts</td>\n",
       "      <td>Apprenticeship Agreement</td>\n",
       "      <td>[[preprinted]]_x000D_\\nBureau of Refugees, Fre...</td>\n",
       "      <td>https://transcription.si.edu/transcribe/15369/...</td>\n",
       "    </tr>\n",
       "  </tbody>\n",
       "</table>\n",
       "</div>"
      ],
      "text/plain": [
       "   project_id   category              sub_category  \\\n",
       "0       11406  Contracts  Apprenticeship Agreement   \n",
       "1       11406  Contracts  Apprenticeship Agreement   \n",
       "2       11406  Contracts  Apprenticeship Agreement   \n",
       "3       11406  Contracts  Apprenticeship Agreement   \n",
       "4       15369  Contracts  Apprenticeship Agreement   \n",
       "\n",
       "                                  transcription_text  \\\n",
       "0  Copy_x000D_\\n_x000D_\\nAgreement of Apprentices...   \n",
       "1  [H 132 ENCL] _x000D_\\n_x000D_\\nCopy_x000D_\\n_x...   \n",
       "2  is agreed on the part of the party of the firs...   \n",
       "3  continuance of this agreement & finally that t...   \n",
       "4  [[preprinted]]_x000D_\\nBureau of Refugees, Fre...   \n",
       "\n",
       "                                        document_url  \n",
       "0  https://transcription.si.edu/transcribe/11406/...  \n",
       "1  https://transcription.si.edu/transcribe/11406/...  \n",
       "2  https://transcription.si.edu/transcribe/11406/...  \n",
       "3  https://transcription.si.edu/transcribe/11406/...  \n",
       "4  https://transcription.si.edu/transcribe/15369/...  "
      ]
     },
     "execution_count": 2,
     "metadata": {},
     "output_type": "execute_result"
    }
   ],
   "source": [
    "df = pd.read_csv('archive/contract-records.csv')\n",
    "df.head()"
   ]
  },
  {
   "cell_type": "markdown",
   "metadata": {},
   "source": [
    "### LLM configuration for python (OpenAI API, Ollama)"
   ]
  },
  {
   "cell_type": "markdown",
   "metadata": {},
   "source": [
    "- OpenAI"
   ]
  },
  {
   "cell_type": "code",
   "execution_count": 5,
   "metadata": {},
   "outputs": [],
   "source": [
    "client = OpenAI(\n",
    "    api_key = os.environ[\"OPENAI_API_KEY\"],\n",
    "    )\n",
    "chat_completion = client.chat.completions.create(\n",
    "    messages=[\n",
    "        {\n",
    "            \"role\": \"user\",\n",
    "            \"content\": \"Why is the sky blue?\",\n",
    "        }\n",
    "    ],\n",
    "    model=\"gpt-3.5-turbo\",\n",
    ")"
   ]
  },
  {
   "cell_type": "markdown",
   "metadata": {},
   "source": [
    "- Ollama"
   ]
  },
  {
   "cell_type": "code",
   "execution_count": 3,
   "metadata": {},
   "outputs": [
    {
     "name": "stdout",
     "output_type": "stream",
     "text": [
      "The sky appears blue to us because of a phenomenon called scattering, which involves the interaction between sunlight and the tiny molecules of gases in the atmosphere.\n",
      "\n",
      "Here's what happens:\n",
      "\n",
      "1. **Sunlight enters Earth's atmosphere**: When the sun shines, it sends out a wide range of electromagnetic radiation, including visible light, ultraviolet (UV) rays, and infrared (IR) radiation.\n",
      "2. **Scattering occurs**: As sunlight travels through the atmosphere, it encounters tiny molecules of gases like nitrogen (N2) and oxygen (O2). These molecules are much smaller than the wavelength of light.\n",
      "3. **Short wavelengths scattered more**: When light hits these gas molecules, some of it scatters in all directions. This scattering effect is more pronounced for shorter (blue) wavelengths than longer (red) wavelengths.\n",
      "4. **Blue light reaches our eyes**: As a result of this scattering, the blue light from the sun becomes dispersed and reaches our eyes from all parts of the sky. The blue color dominates because it's scattered in every direction, making the entire sky appear blue.\n",
      "\n",
      "Some important notes:\n",
      "\n",
      "* **Why not violet?**: You might wonder why we don't see a violet-colored sky. The reason is that violet light has an even shorter wavelength than blue light and gets scattered even more, but our eyes are less sensitive to violet light.\n",
      "* **Sky color changes**: As the sun moves across the sky, the apparent color of the sky can change due to the angle of sunlight and atmospheric conditions.\n",
      "\n",
      "There you have it! The sky is blue because of the way sunlight interacts with the tiny molecules in Earth's atmosphere, scattering shorter wavelengths (like blue light) in all directions.\n",
      "\n",
      "Would you like to know more about light or colors?\n"
     ]
    }
   ],
   "source": [
    "response = ollama.chat(model='llama3.1', messages=[\n",
    "  {\n",
    "    'role': 'user',\n",
    "    'content': 'Why is the sky blue?',\n",
    "  },\n",
    "])\n",
    "print(response['message']['content'])"
   ]
  },
  {
   "cell_type": "markdown",
   "metadata": {},
   "source": [
    "### Parsing sentences"
   ]
  },
  {
   "cell_type": "code",
   "execution_count": 19,
   "metadata": {},
   "outputs": [],
   "source": [
    "inputs = [\n",
    "    \"John James agrees to pay $50/month to RJ Hampshire for work on the Farm\",\n",
    "    \"Elizabeth James will pay $30 per month to Levi Rodgers for Gardening\",\n",
    "    \"Johnson Ollaman will pay $1.25 per day to both John Smith and Jane Smith for teaching the children of the community\",\n",
    "    \"Claire Daniels charges $50 weekly to local community members for cooking classes, emphasizing the joy of healthy eating.\",\n",
    "    \"Marcus Wellby commits to donating $500 annually to the Green Earth Foundation for environmental conservation efforts.\",\n",
    "    \"Dr. Helena Russell charges $100 per hour for providing guidance and support to medical students, aiming to enhance their clinical skills and knowledge.\",\n",
    "    \"The local sports club agrees to pay $75 each to coaches Sarah Miller, Danny Glover, Alex Reed, and Jamie Fox for conducting a weekend sports clinic.\",\n",
    "    \"\"\"This Agreement made this 14th day of August A.D. 1865, by and between F.R.J. Terry of the county of Copiah and State of Mississippi of the first part, and the person hereinafter named and undersigned,\n",
    "    Freedmen of the second part [[?]] That for the purpose of working in the [[?]] known as Beagley's [[?]] Yard in the county aforesaid for two months commencing on the 14th day of August 1865 and terminating\n",
    "    on the 14th day of October 1865. The said F.R.J. Terry party of the first part, in consideration of the [[?]] and conditions hereinafter mentioned on the part of the party of the second part agrees to pay said\n",
    "    laborer \"10\" ten dollars per month and furnish free of charge clothing and good of good quality and sufficient quantity, good and sufficient quarters, and kind and humane treatment. And it is further agreed\n",
    "    that in case the said F.R.J. Terry shall fail, neglect, or refuse to fulfill any of the obligations assumed by him, he shall besides the legal recourse left to the party aggrieved render this contract liable\n",
    "    to amendment by the Provost Marshal of Freedmen. And it is agreed on the part of the party of second part that he will well and faithfully perform such labor as the said F.R.J. Terry may require of him for the\n",
    "    time aforesaid, nor exceeding ten hours per day in summer and nine hours in winter. And in case the said laborer shall absent himself from or refuse to perform the labor herein promised, he shall loose the time\n",
    "    and be punished as such manner as the Provost Marshal shall deem propper.\"\"\",\n",
    "]\n",
    "\n",
    "outputs = [\n",
    "    [{\"payer\": \"John James\", \"recipient\": \"RJ Hampshire\", \"amount\": 50, \"pay frequency\": \"monthly\", \"description\": \"farming\"}],\n",
    "    [{\"payer\": \"Elizabeth James\", \"recipient\": \"Levi Rodgers\", \"amount\": 30, \"pay frequency\": \"monthly\", \"description\": \"gardening\"}],\n",
    "    [{\"payer\": \"Johnson Ollaman\", \"recipient\": \"John Smith\", \"amount\": 1.25, \"pay frequency\": \"daily\", \"description\": \"teaching the children of the community\"}, {\"payer\": \"Johnson Ollaman\", \"recipient\": \"Jane Smith\", \"amount\": 1.25, \"pay frequency\": \"daily\", \"description\": \"teaching the children of the community\"}],\n",
    "    [{\"payer\": \"Claire Daniels\", \"recipient\": \"Local community members\", \"amount\": 50, \"pay frequency\": \"weekly\", \"description\": \"cooking classes\"}],\n",
    "    [{\"payer\": \"Marcus Wellby\", \"recipient\": \"Green Earth Foundation\", \"amount\": 500, \"pay frequency\": \"yearly\", \"description\": \"donation for environmental conservation\"}],\n",
    "    [{\"payer\": \"Dr. Helena Russell\", \"recipient\": \"Medical students\", \"amount\": 100, \"pay frequency\": \"hourly\", \"description\": \"mentorship and clinical skill enhancement\"}],\n",
    "    [{\"payer\": \"The local sports club\", \"recipient\": \"Sarah Miller\", \"amount\": 75, \"pay frequency\": \"one-time\", \"description\": \"weekend sports clinic\"},\n",
    "     {\"payer\": \"The local sports club\", \"recipient\": \"Danny Glover\", \"amount\": 75, \"pay frequency\": \"one-time\", \"description\": \"weekend sports clinic\"},\n",
    "     {\"payer\": \"The local sports club\", \"recipient\": \"Alex Reed\", \"amount\": 75, \"pay frequency\": \"one-time\", \"description\": \"weekend sports clinic\"},\n",
    "     {\"payer\": \"The local sports club\", \"recipient\": \"Jamie Fox\", \"amount\": 75, \"pay frequency\": \"one-time\", \"description\": \"weekend sports clinic\"}],\n",
    "    [{\"payer\": \"F.R.J. Terry\", \"payee\": \"Freedmen\", \"amount\":10, \"pay frequency\": \"monthly\", \"description\": \"working in the yard\"}],\n",
    "]"
   ]
  },
  {
   "cell_type": "code",
   "execution_count": 29,
   "metadata": {},
   "outputs": [
    {
     "name": "stdout",
     "output_type": "stream",
     "text": [
      "[{'payer': 'local sports club', 'recipient': 'Sarah Miller', 'amount': 75, 'pay frequency': 'one-time', 'description': 'sports clinic'}, \n",
      " {'payer': 'local sports club', 'recipient': 'Danny Glover', 'amount': 75, 'pay frequency': 'one-time', 'description': 'sports clinic'}, \n",
      " {'payer': 'local sports club', 'recipient': 'Alex Reed', 'amount': 75, 'pay frequency': 'one-time', 'description': 'sports clinic'}, \n",
      " {'payer': 'local sports club', 'recipient': 'Jamie Fox', 'amount': 75, 'pay frequency': 'one-time', 'description': 'sports clinic'}]\n"
     ]
    }
   ],
   "source": [
    "system_message = \"\"\"From any given sentcence, grab a payer, recipient, amout, pay frequuency and description. Output shoud be as JSON format. \n",
    "Note that there may be a few recipients (if they are being paid, each should have a full sepearate entry). Do not write anything around, I just need plain information\"\"\"\n",
    "\n",
    "response = ollama.chat(model='llama3.1', messages=[\n",
    "  {\n",
    "    'role': 'system',\n",
    "    'content': system_message\n",
    "  },\n",
    "  {\n",
    "    'role': 'user',\n",
    "    'content': inputs[0]\n",
    "  },\n",
    "  {\n",
    "    'role': 'assistant',\n",
    "    'content': str(outputs[0])\n",
    "  },\n",
    "  {\n",
    "    'role': 'user',\n",
    "    'content': \"The local sports club agrees to pay $75 each to coaches Sarah Miller, Danny Glover, Alex Reed, and Jamie Fox for conducting a weekend sports clinic.\"\n",
    "  }\n",
    "])\n",
    "print(response['message']['content'])"
   ]
  }
 ],
 "metadata": {
  "kernelspec": {
   "display_name": "base",
   "language": "python",
   "name": "python3"
  },
  "language_info": {
   "codemirror_mode": {
    "name": "ipython",
    "version": 3
   },
   "file_extension": ".py",
   "mimetype": "text/x-python",
   "name": "python",
   "nbconvert_exporter": "python",
   "pygments_lexer": "ipython3",
   "version": "3.11.5"
  }
 },
 "nbformat": 4,
 "nbformat_minor": 2
}
